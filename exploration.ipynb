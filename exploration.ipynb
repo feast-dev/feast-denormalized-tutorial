{
 "cells": [
  {
   "cell_type": "code",
   "execution_count": 1,
   "id": "00e5152d-e5df-405a-8305-42ef52f6210d",
   "metadata": {},
   "outputs": [],
   "source": [
    "%load_ext autoreload\n",
    "%autoreload 2"
   ]
  },
  {
   "cell_type": "code",
   "execution_count": 2,
   "id": "78777173-64fd-4f2a-b7a4-a4b75212ca4e",
   "metadata": {},
   "outputs": [],
   "source": [
    "import json\n",
    "import signal\n",
    "import sys\n",
    "import datetime\n",
    "import time\n",
    "\n",
    "from pathlib import Path\n",
    "from IPython.display import HTML, display, clear_output, display_html\n",
    "import pandas as pd\n",
    "import pyarrow as pa\n",
    "import pyarrow.parquet as pq\n",
    "from feast import FeatureStore\n",
    "from feast.data_source import PushMode\n",
    "\n",
    "from typing import List\n",
    "import pprint\n",
    "\n",
    "pd.set_option('display.max_rows', 100)"
   ]
  },
  {
   "cell_type": "code",
   "execution_count": 6,
   "id": "f930c20f-b10f-49d6-9941-7c5ad1bbf62f",
   "metadata": {},
   "outputs": [],
   "source": [
    "try:\n",
    "    repo_path = Path(\"./src/feature_repo/\")\n",
    "    fs = FeatureStore(repo_path=str(repo_path.resolve()))\n",
    "except Exception as e:\n",
    "    print(e)"
   ]
  },
  {
   "cell_type": "code",
   "execution_count": 50,
   "id": "7689f59a-2467-454d-82d3-3248cb377fb6",
   "metadata": {},
   "outputs": [],
   "source": [
    "#fs.teardown()\n",
    "# fs.write_to_online_store"
   ]
  },
  {
   "cell_type": "code",
   "execution_count": 7,
   "id": "29ad3711-5afc-42bc-8e5c-5729455e6327",
   "metadata": {},
   "outputs": [],
   "source": [
    "from feature_repo.fraud_data import all_entities"
   ]
  },
  {
   "cell_type": "code",
   "execution_count": 8,
   "id": "63c8dde0-4416-4ce9-bd4d-50ce3c546f3d",
   "metadata": {},
   "outputs": [
    {
     "name": "stderr",
     "output_type": "stream",
     "text": [
      "WARNING:root:Cannot use sqlite_vec for vector search\n"
     ]
    }
   ],
   "source": [
    "fs.apply(all_entities)"
   ]
  },
  {
   "cell_type": "code",
   "execution_count": 6,
   "id": "99d8b17b-e8d7-4567-a97b-1ff3689cd549",
   "metadata": {},
   "outputs": [
    {
     "name": "stdout",
     "output_type": "stream",
     "text": [
      "[Entity(\n",
      "    name='auth_attempt',\n",
      "    value_type=<ValueType.STRING: 2>,\n",
      "    join_key='user_id',\n",
      "    description='',\n",
      "    tags={},\n",
      "    owner='',\n",
      "    created_timestamp=datetime.datetime(2024, 12, 6, 23, 8, 1, 311785),\n",
      "    last_updated_timestamp=datetime.datetime(2024, 12, 6, 23, 8, 1, 311785)\n",
      ")]\n"
     ]
    }
   ],
   "source": [
    "entities = fs.list_entities()\n",
    "print(entities)"
   ]
  },
  {
   "cell_type": "code",
   "execution_count": 8,
   "id": "e0392ff6-4b4d-4a6e-afdc-9d4c494ab050",
   "metadata": {},
   "outputs": [],
   "source": [
    "#fs.list_feature_views()"
   ]
  },
  {
   "cell_type": "code",
   "execution_count": 27,
   "id": "bddd416c-545a-4008-af44-c152d1877ce0",
   "metadata": {},
   "outputs": [
    {
     "data": {
      "text/html": [
       "<div>\n",
       "<style scoped>\n",
       "    .dataframe tbody tr th:only-of-type {\n",
       "        vertical-align: middle;\n",
       "    }\n",
       "\n",
       "    .dataframe tbody tr th {\n",
       "        vertical-align: top;\n",
       "    }\n",
       "\n",
       "    .dataframe thead th {\n",
       "        text-align: right;\n",
       "    }\n",
       "</style>\n",
       "<table border=\"1\" class=\"dataframe\">\n",
       "  <thead>\n",
       "    <tr style=\"text-align: right;\">\n",
       "      <th></th>\n",
       "      <th>user_id</th>\n",
       "      <th>1_ratio</th>\n",
       "      <th>1_total</th>\n",
       "      <th>1_success</th>\n",
       "    </tr>\n",
       "  </thead>\n",
       "  <tbody>\n",
       "    <tr>\n",
       "      <th>0</th>\n",
       "      <td>user_000</td>\n",
       "      <td>1.000000</td>\n",
       "      <td>1</td>\n",
       "      <td>1</td>\n",
       "    </tr>\n",
       "    <tr>\n",
       "      <th>1</th>\n",
       "      <td>user_001</td>\n",
       "      <td>0.000000</td>\n",
       "      <td>2</td>\n",
       "      <td>0</td>\n",
       "    </tr>\n",
       "    <tr>\n",
       "      <th>2</th>\n",
       "      <td>user_002</td>\n",
       "      <td>0.666667</td>\n",
       "      <td>3</td>\n",
       "      <td>2</td>\n",
       "    </tr>\n",
       "    <tr>\n",
       "      <th>3</th>\n",
       "      <td>user_003</td>\n",
       "      <td>1.000000</td>\n",
       "      <td>1</td>\n",
       "      <td>1</td>\n",
       "    </tr>\n",
       "    <tr>\n",
       "      <th>4</th>\n",
       "      <td>user_004</td>\n",
       "      <td>0.500000</td>\n",
       "      <td>2</td>\n",
       "      <td>1</td>\n",
       "    </tr>\n",
       "    <tr>\n",
       "      <th>5</th>\n",
       "      <td>user_005</td>\n",
       "      <td>1.000000</td>\n",
       "      <td>1</td>\n",
       "      <td>1</td>\n",
       "    </tr>\n",
       "    <tr>\n",
       "      <th>6</th>\n",
       "      <td>user_006</td>\n",
       "      <td>0.000000</td>\n",
       "      <td>1</td>\n",
       "      <td>0</td>\n",
       "    </tr>\n",
       "    <tr>\n",
       "      <th>7</th>\n",
       "      <td>user_007</td>\n",
       "      <td>1.000000</td>\n",
       "      <td>1</td>\n",
       "      <td>1</td>\n",
       "    </tr>\n",
       "    <tr>\n",
       "      <th>8</th>\n",
       "      <td>user_008</td>\n",
       "      <td>0.666667</td>\n",
       "      <td>3</td>\n",
       "      <td>2</td>\n",
       "    </tr>\n",
       "    <tr>\n",
       "      <th>9</th>\n",
       "      <td>user_009</td>\n",
       "      <td>1.000000</td>\n",
       "      <td>1</td>\n",
       "      <td>1</td>\n",
       "    </tr>\n",
       "  </tbody>\n",
       "</table>\n",
       "</div>"
      ],
      "text/plain": [
       "    user_id   1_ratio  1_total  1_success\n",
       "0  user_000  1.000000        1          1\n",
       "1  user_001  0.000000        2          0\n",
       "2  user_002  0.666667        3          2\n",
       "3  user_003  1.000000        1          1\n",
       "4  user_004  0.500000        2          1\n",
       "5  user_005  1.000000        1          1\n",
       "6  user_006  0.000000        1          0\n",
       "7  user_007  1.000000        1          1\n",
       "8  user_008  0.666667        3          2\n",
       "9  user_009  1.000000        1          1"
      ]
     },
     "execution_count": 27,
     "metadata": {},
     "output_type": "execute_result"
    }
   ],
   "source": [
    "df = fs.get_online_features(\n",
    "        features=[\n",
    "            \"auth_attempt_view_w1:1_total\",\n",
    "            \"auth_attempt_view_w1:1_success\",\n",
    "            \"auth_attempt_view_w1:1_ratio\",\n",
    "        ],\n",
    "        entity_rows=[{\"user_id\": f\"user_{i:03d}\"} for i in range(0, 10)],\n",
    "    ).to_df()\n",
    "df"
   ]
  },
  {
   "cell_type": "code",
   "execution_count": 35,
   "id": "0bc2c446-5b08-43de-a56d-c5e1bfd2be60",
   "metadata": {},
   "outputs": [
    {
     "data": {
      "text/plain": [
       "['auth_attempt_view_w1:1_total',\n",
       " 'auth_attempt_view_w5:5_total',\n",
       " 'auth_attempt_view_w10:10_total',\n",
       " 'auth_attempt_view_w15:15_total']"
      ]
     },
     "execution_count": 35,
     "metadata": {},
     "output_type": "execute_result"
    }
   ],
   "source": [
    "features = []\n",
    "for i in [1, 5, 10, 15]:\n",
    "    features += [\n",
    "        f\"auth_attempt_view_w{i}:{i}_total\",\n",
    "        # f\"auth_attempt_view_w{i}:{i}_success\",\n",
    "        # f\"auth_attempt_view_w{i}:{i}_ratio\",\n",
    "    ]\n",
    "features"
   ]
  },
  {
   "cell_type": "code",
   "execution_count": 36,
   "id": "97a7346e-ae9a-4121-a7c6-d3877d866bb0",
   "metadata": {},
   "outputs": [
    {
     "data": {
      "text/html": [
       "<div>\n",
       "<style scoped>\n",
       "    .dataframe tbody tr th:only-of-type {\n",
       "        vertical-align: middle;\n",
       "    }\n",
       "\n",
       "    .dataframe tbody tr th {\n",
       "        vertical-align: top;\n",
       "    }\n",
       "\n",
       "    .dataframe thead th {\n",
       "        text-align: right;\n",
       "    }\n",
       "</style>\n",
       "<table border=\"1\" class=\"dataframe\">\n",
       "  <thead>\n",
       "    <tr style=\"text-align: right;\">\n",
       "      <th></th>\n",
       "      <th>user_id</th>\n",
       "      <th>1_total</th>\n",
       "      <th>5_total</th>\n",
       "      <th>10_total</th>\n",
       "      <th>15_total</th>\n",
       "    </tr>\n",
       "  </thead>\n",
       "  <tbody>\n",
       "    <tr>\n",
       "      <th>0</th>\n",
       "      <td>user_000</td>\n",
       "      <td>422</td>\n",
       "      <td>2186</td>\n",
       "      <td>4176</td>\n",
       "      <td>6022</td>\n",
       "    </tr>\n",
       "    <tr>\n",
       "      <th>1</th>\n",
       "      <td>user_001</td>\n",
       "      <td>452</td>\n",
       "      <td>2170</td>\n",
       "      <td>4142</td>\n",
       "      <td>6062</td>\n",
       "    </tr>\n",
       "    <tr>\n",
       "      <th>2</th>\n",
       "      <td>user_002</td>\n",
       "      <td>436</td>\n",
       "      <td>2128</td>\n",
       "      <td>4097</td>\n",
       "      <td>5967</td>\n",
       "    </tr>\n",
       "    <tr>\n",
       "      <th>3</th>\n",
       "      <td>user_003</td>\n",
       "      <td>419</td>\n",
       "      <td>2180</td>\n",
       "      <td>4161</td>\n",
       "      <td>6027</td>\n",
       "    </tr>\n",
       "    <tr>\n",
       "      <th>4</th>\n",
       "      <td>user_004</td>\n",
       "      <td>448</td>\n",
       "      <td>2177</td>\n",
       "      <td>4106</td>\n",
       "      <td>5994</td>\n",
       "    </tr>\n",
       "    <tr>\n",
       "      <th>5</th>\n",
       "      <td>user_005</td>\n",
       "      <td>413</td>\n",
       "      <td>2030</td>\n",
       "      <td>4075</td>\n",
       "      <td>6030</td>\n",
       "    </tr>\n",
       "    <tr>\n",
       "      <th>6</th>\n",
       "      <td>user_006</td>\n",
       "      <td>420</td>\n",
       "      <td>2156</td>\n",
       "      <td>4174</td>\n",
       "      <td>6111</td>\n",
       "    </tr>\n",
       "    <tr>\n",
       "      <th>7</th>\n",
       "      <td>user_007</td>\n",
       "      <td>393</td>\n",
       "      <td>2122</td>\n",
       "      <td>4104</td>\n",
       "      <td>6037</td>\n",
       "    </tr>\n",
       "    <tr>\n",
       "      <th>8</th>\n",
       "      <td>user_008</td>\n",
       "      <td>410</td>\n",
       "      <td>2141</td>\n",
       "      <td>4198</td>\n",
       "      <td>6090</td>\n",
       "    </tr>\n",
       "    <tr>\n",
       "      <th>9</th>\n",
       "      <td>user_009</td>\n",
       "      <td>432</td>\n",
       "      <td>2180</td>\n",
       "      <td>4126</td>\n",
       "      <td>6082</td>\n",
       "    </tr>\n",
       "  </tbody>\n",
       "</table>\n",
       "</div>"
      ],
      "text/plain": [
       "    user_id  1_total  5_total  10_total  15_total\n",
       "0  user_000      422     2186      4176      6022\n",
       "1  user_001      452     2170      4142      6062\n",
       "2  user_002      436     2128      4097      5967\n",
       "3  user_003      419     2180      4161      6027\n",
       "4  user_004      448     2177      4106      5994\n",
       "5  user_005      413     2030      4075      6030\n",
       "6  user_006      420     2156      4174      6111\n",
       "7  user_007      393     2122      4104      6037\n",
       "8  user_008      410     2141      4198      6090\n",
       "9  user_009      432     2180      4126      6082"
      ]
     },
     "metadata": {},
     "output_type": "display_data"
    },
    {
     "ename": "KeyboardInterrupt",
     "evalue": "",
     "output_type": "error",
     "traceback": [
      "\u001b[0;31m---------------------------------------------------------------------------\u001b[0m",
      "\u001b[0;31mKeyboardInterrupt\u001b[0m                         Traceback (most recent call last)",
      "Cell \u001b[0;32mIn[36], line 14\u001b[0m\n\u001b[1;32m      9\u001b[0m feature_vector \u001b[38;5;241m=\u001b[39m fs\u001b[38;5;241m.\u001b[39mget_online_features(\n\u001b[1;32m     10\u001b[0m     features\u001b[38;5;241m=\u001b[39mfeatures,\n\u001b[1;32m     11\u001b[0m     entity_rows\u001b[38;5;241m=\u001b[39mentity_rows,\n\u001b[1;32m     12\u001b[0m )\u001b[38;5;241m.\u001b[39mto_df()\n\u001b[1;32m     13\u001b[0m display_id\u001b[38;5;241m.\u001b[39mupdate(feature_vector)\n\u001b[0;32m---> 14\u001b[0m \u001b[43mtime\u001b[49m\u001b[38;5;241;43m.\u001b[39;49m\u001b[43msleep\u001b[49m\u001b[43m(\u001b[49m\u001b[38;5;241;43m1\u001b[39;49m\u001b[43m)\u001b[49m\n\u001b[1;32m     15\u001b[0m \u001b[38;5;66;03m# clear_output()\u001b[39;00m\n",
      "\u001b[0;31mKeyboardInterrupt\u001b[0m: "
     ]
    }
   ],
   "source": [
    "display_id = display(\"\", display_id=True)\n",
    "\n",
    "entity_rows = [\n",
    "    {\"user_id\": f\"user_{i:03d}\"} for i in range(0, 10)\n",
    "]\n",
    "# print(entity_rows)\n",
    "\n",
    "while True:\n",
    "    feature_vector = fs.get_online_features(\n",
    "        features=features,\n",
    "        entity_rows=entity_rows,\n",
    "    ).to_df()\n",
    "    display_id.update(feature_vector)\n",
    "    time.sleep(1)\n",
    "    # clear_output()"
   ]
  },
  {
   "cell_type": "code",
   "execution_count": null,
   "id": "6eab7d52-ffbb-4f8a-a604-9ee195e58f14",
   "metadata": {},
   "outputs": [],
   "source": [
    "from pipeline.stream_job import ds, pipelines\n",
    "from typing import get_type_hints, List, Dict, Optional\n",
    "\n",
    "from denormalized import Context, FeastDataStream"
   ]
  },
  {
   "cell_type": "code",
   "execution_count": null,
   "id": "cf9a9688-52c9-47c0-8aaf-33b0c6db7854",
   "metadata": {},
   "outputs": [],
   "source": [
    "ds.get_feast_schema()"
   ]
  },
  {
   "cell_type": "code",
   "execution_count": null,
   "id": "dce6315a-8034-42a6-81ce-39759fbd7445",
   "metadata": {},
   "outputs": [],
   "source": [
    "import pyarrow as pa"
   ]
  },
  {
   "cell_type": "code",
   "execution_count": null,
   "id": "c0c12c5b-0a66-4a66-87c4-16c820fb1195",
   "metadata": {},
   "outputs": [],
   "source": [
    "pa.scalar(True)"
   ]
  }
 ],
 "metadata": {
  "kernelspec": {
   "display_name": "Python 3 (ipykernel)",
   "language": "python",
   "name": "python3"
  },
  "language_info": {
   "codemirror_mode": {
    "name": "ipython",
    "version": 3
   },
   "file_extension": ".py",
   "mimetype": "text/x-python",
   "name": "python",
   "nbconvert_exporter": "python",
   "pygments_lexer": "ipython3",
   "version": "3.12.5"
  }
 },
 "nbformat": 4,
 "nbformat_minor": 5
}
