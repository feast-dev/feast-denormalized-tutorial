{
 "cells": [
  {
   "cell_type": "code",
   "execution_count": 1,
   "id": "00e5152d-e5df-405a-8305-42ef52f6210d",
   "metadata": {},
   "outputs": [],
   "source": [
    "%load_ext autoreload\n",
    "%autoreload 2"
   ]
  },
  {
   "cell_type": "code",
   "execution_count": 2,
   "id": "78777173-64fd-4f2a-b7a4-a4b75212ca4e",
   "metadata": {},
   "outputs": [],
   "source": [
    "import json\n",
    "import signal\n",
    "import sys\n",
    "import datetime\n",
    "import time\n",
    "\n",
    "from pathlib import Path\n",
    "from IPython.display import HTML, display, clear_output, display_html\n",
    "import pandas as pd\n",
    "import pyarrow as pa\n",
    "import pyarrow.parquet as pq\n",
    "from feast import FeatureStore\n",
    "from feast.data_source import PushMode\n",
    "\n",
    "from typing import List\n",
    "import pprint\n",
    "\n",
    "pd.set_option('display.max_rows', 100)"
   ]
  },
  {
   "cell_type": "code",
   "execution_count": 6,
   "id": "f930c20f-b10f-49d6-9941-7c5ad1bbf62f",
   "metadata": {},
   "outputs": [],
   "source": [
    "try:\n",
    "    repo_path = Path(\"./src/feature_repo/\")\n",
    "    fs = FeatureStore(repo_path=str(repo_path.resolve()))\n",
    "except Exception as e:\n",
    "    print(e)"
   ]
  },
  {
   "cell_type": "code",
   "execution_count": 7,
   "id": "29ad3711-5afc-42bc-8e5c-5729455e6327",
   "metadata": {},
   "outputs": [],
   "source": [
    "# run the feast apply() method\n",
    "from feature_repo.fraud_data import all_entities\n",
    "fs.apply(all_entities)"
   ]
  },
  {
   "cell_type": "code",
   "execution_count": 6,
   "id": "99d8b17b-e8d7-4567-a97b-1ff3689cd549",
   "metadata": {},
   "outputs": [
    {
     "name": "stdout",
     "output_type": "stream",
     "text": [
      "[Entity(\n",
      "    name='auth_attempt',\n",
      "    value_type=<ValueType.STRING: 2>,\n",
      "    join_key='user_id',\n",
      "    description='',\n",
      "    tags={},\n",
      "    owner='',\n",
      "    created_timestamp=datetime.datetime(2024, 12, 6, 23, 8, 1, 311785),\n",
      "    last_updated_timestamp=datetime.datetime(2024, 12, 6, 23, 8, 1, 311785)\n",
      ")]\n"
     ]
    }
   ],
   "source": [
    "entities = fs.list_entities()\n",
    "print(entities)"
   ]
  },
  {
   "cell_type": "code",
   "execution_count": 8,
   "id": "e0392ff6-4b4d-4a6e-afdc-9d4c494ab050",
   "metadata": {},
   "outputs": [],
   "source": [
    "#fs.list_feature_views()"
   ]
  },
  {
   "cell_type": "code",
   "execution_count": null,
   "id": "bddd416c-545a-4008-af44-c152d1877ce0",
   "metadata": {},
   "outputs": [],
   "source": [
    "df = fs.get_online_features(\n",
    "        features=[\n",
    "            \"auth_attempt_view_w1:1_total\",\n",
    "            \"auth_attempt_view_w1:1_success\",\n",
    "            \"auth_attempt_view_w1:1_ratio\",\n",
    "        ],\n",
    "        entity_rows=[{\"user_id\": f\"user_{i:03d}\"} for i in range(0, 10)],\n",
    "    ).to_df()\n",
    "df"
   ]
  }
 ],
 "metadata": {
  "kernelspec": {
   "display_name": "Python 3 (ipykernel)",
   "language": "python",
   "name": "python3"
  },
  "language_info": {
   "codemirror_mode": {
    "name": "ipython",
    "version": 3
   },
   "file_extension": ".py",
   "mimetype": "text/x-python",
   "name": "python",
   "nbconvert_exporter": "python",
   "pygments_lexer": "ipython3",
   "version": "3.12.5"
  }
 },
 "nbformat": 4,
 "nbformat_minor": 5
}
